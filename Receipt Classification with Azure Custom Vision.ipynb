{
 "cells": [
  {
   "cell_type": "code",
   "execution_count": 1,
   "metadata": {},
   "outputs": [],
   "source": [
    "import os\n",
    "from dotenv import load_dotenv\n",
    "\n",
    "# Load environment variables from .env file\n",
    "load_dotenv()\n",
    "\n",
    "# Retrieve environment variables\n",
    "training_endpoint = os.getenv(\"VISION_TRAINING_ENDPOINT\")\n",
    "training_key = os.getenv(\"VISION_TRAINING_KEY\")\n",
    "prediction_key = os.getenv(\"VISION_PREDICTION_KEY\")\n",
    "prediction_endpoint = os.getenv(\"VISION_PREDICTION_ENDPOINT\")\n",
    "prediction_resource_id = os.getenv(\"VISION_PREDICTION_RESOURCE_ID\")"
   ]
  },
  {
   "cell_type": "code",
   "execution_count": 2,
   "metadata": {},
   "outputs": [],
   "source": [
    "from azure.cognitiveservices.vision.customvision.training import CustomVisionTrainingClient\n",
    "from azure.cognitiveservices.vision.customvision.prediction import CustomVisionPredictionClient\n",
    "from azure.cognitiveservices.vision.customvision.training.models import ImageFileCreateBatch, ImageFileCreateEntry, Region\n",
    "from msrest.authentication import ApiKeyCredentials\n",
    "import os, time, uuid"
   ]
  },
  {
   "cell_type": "code",
   "execution_count": 3,
   "metadata": {},
   "outputs": [],
   "source": [
    "credentials = ApiKeyCredentials(in_headers={\"Training-key\": training_key})\n",
    "trainer = CustomVisionTrainingClient(training_endpoint, credentials)\n"
   ]
  },
  {
   "cell_type": "code",
   "execution_count": 4,
   "metadata": {},
   "outputs": [
    {
     "data": {
      "text/plain": [
       "<msrest.authentication.ApiKeyCredentials at 0x7f5c9c290880>"
      ]
     },
     "execution_count": 4,
     "metadata": {},
     "output_type": "execute_result"
    }
   ],
   "source": [
    "credentials"
   ]
  },
  {
   "cell_type": "code",
   "execution_count": 5,
   "metadata": {},
   "outputs": [
    {
     "name": "stdout",
     "output_type": "stream",
     "text": [
      "Creating project...\n"
     ]
    }
   ],
   "source": [
    "publish_iteration_name = \"classifyModel\"\n",
    "\n",
    "credentials = ApiKeyCredentials(in_headers={\"Training-key\": training_key})\n",
    "trainer = CustomVisionTrainingClient(training_endpoint, credentials)\n",
    "\n",
    "# Create a new project\n",
    "print (\"Creating project...\")\n",
    "project_name = uuid.uuid4()\n",
    "project = trainer.create_project(project_name)"
   ]
  },
  {
   "cell_type": "code",
   "execution_count": null,
   "metadata": {},
   "outputs": [],
   "source": [
    "\n",
    "project = trainer.create_project(project_name)"
   ]
  },
  {
   "cell_type": "code",
   "execution_count": 4,
   "metadata": {},
   "outputs": [],
   "source": [
    "project = trainer.get_projects()[0]"
   ]
  },
  {
   "cell_type": "code",
   "execution_count": 5,
   "metadata": {},
   "outputs": [
    {
     "data": {
      "text/plain": [
       "'10bbf92b-8094-4a81-81e7-37a3291af02f'"
      ]
     },
     "execution_count": 5,
     "metadata": {},
     "output_type": "execute_result"
    }
   ],
   "source": [
    "project.name"
   ]
  },
  {
   "cell_type": "code",
   "execution_count": 6,
   "metadata": {},
   "outputs": [],
   "source": [
    "# Make two tags in the new project\n",
    "receipt_tag = trainer.create_tag(project.id, \"Receipt\")\n",
    "non_receipt_tag = trainer.create_tag(project.id, \"Non Receipt\")"
   ]
  },
  {
   "cell_type": "code",
   "execution_count": null,
   "metadata": {},
   "outputs": [],
   "source": []
  },
  {
   "cell_type": "code",
   "execution_count": 7,
   "metadata": {},
   "outputs": [],
   "source": [
    "base_image_location = os.path.dirname(\"dataset/\")"
   ]
  },
  {
   "cell_type": "code",
   "execution_count": 8,
   "metadata": {},
   "outputs": [
    {
     "data": {
      "text/plain": [
       "'dataset'"
      ]
     },
     "execution_count": 8,
     "metadata": {},
     "output_type": "execute_result"
    }
   ],
   "source": [
    "base_image_location"
   ]
  },
  {
   "cell_type": "code",
   "execution_count": 9,
   "metadata": {},
   "outputs": [
    {
     "data": {
      "text/plain": [
       "['receipt', 'non_receipt']"
      ]
     },
     "execution_count": 9,
     "metadata": {},
     "output_type": "execute_result"
    }
   ],
   "source": [
    "os.listdir(base_image_location)"
   ]
  },
  {
   "cell_type": "code",
   "execution_count": 11,
   "metadata": {},
   "outputs": [
    {
     "name": "stdout",
     "output_type": "stream",
     "text": [
      "Files have been renamed.\n"
     ]
    }
   ],
   "source": [
    "import os\n",
    "\n",
    "# Directory where the images are stored\n",
    "directory = \"dataset/receipt\"\n",
    "\n",
    "# Iterate over the file numbers\n",
    "for i in range(20):\n",
    "    # Construct old and new filenames\n",
    "    old_filename = os.path.join(directory, f\"{i}.jpg\")\n",
    "    new_filename = os.path.join(directory, f\"receipt_{i+1}.jpg\")\n",
    "    \n",
    "    # Rename the file\n",
    "    os.rename(old_filename, new_filename)\n",
    "\n",
    "print(\"Files have been renamed.\")"
   ]
  },
  {
   "cell_type": "code",
   "execution_count": 12,
   "metadata": {},
   "outputs": [
    {
     "name": "stdout",
     "output_type": "stream",
     "text": [
      "Files have been renamed.\n"
     ]
    }
   ],
   "source": [
    "import os\n",
    "\n",
    "# Directory where the images are stored\n",
    "directory = \"dataset/non_receipt\"\n",
    "\n",
    "# Supported image extensions\n",
    "extensions = {'.jpg', '.jpeg', '.png'}\n",
    "\n",
    "# Get all image files with the supported extensions\n",
    "image_files = [f for f in os.listdir(directory) if os.path.splitext(f)[1].lower() in extensions]\n",
    "\n",
    "# Sort the files to maintain a consistent order (optional)\n",
    "image_files.sort()\n",
    "\n",
    "# Rename the files\n",
    "for i, file_name in enumerate(image_files, start=1):\n",
    "    # Extract the file extension\n",
    "    _, ext = os.path.splitext(file_name)\n",
    "    # Construct the new filename\n",
    "    new_filename = f\"non_receipt_{i}{ext}\"\n",
    "    # Rename the file\n",
    "    os.rename(os.path.join(directory, file_name), os.path.join(directory, new_filename))\n",
    "\n",
    "print(\"Files have been renamed.\")"
   ]
  },
  {
   "cell_type": "code",
   "execution_count": 10,
   "metadata": {},
   "outputs": [
    {
     "name": "stdout",
     "output_type": "stream",
     "text": [
      "Adding images...\n",
      "Image batch upload failed.\n",
      "Image status:  OK\n",
      "Image status:  OK\n",
      "Image status:  OK\n",
      "Image status:  OK\n",
      "Image status:  OK\n",
      "Image status:  OK\n",
      "Image status:  OK\n",
      "Image status:  OKDuplicate\n",
      "Image status:  OK\n",
      "Image status:  OK\n",
      "Image status:  OK\n",
      "Image status:  OK\n",
      "Image status:  OK\n",
      "Image status:  OK\n",
      "Image status:  OK\n",
      "Image status:  ErrorImageFormat\n",
      "Image status:  OK\n",
      "Image status:  OK\n",
      "Image status:  OK\n",
      "Image status:  OK\n",
      "Image status:  OK\n",
      "Image status:  OK\n",
      "Image status:  OK\n",
      "Image status:  OK\n",
      "Image status:  OK\n",
      "Image status:  OK\n",
      "Image status:  OK\n",
      "Image status:  OK\n",
      "Image status:  OK\n",
      "Image status:  OK\n",
      "Image status:  OK\n",
      "Image status:  OK\n",
      "Image status:  OK\n",
      "Image status:  OK\n",
      "Image status:  OK\n",
      "Image status:  OK\n",
      "Image status:  OK\n",
      "Image status:  OK\n",
      "Image status:  OK\n",
      "Image status:  ErrorImageFormat\n"
     ]
    }
   ],
   "source": [
    "print(\"Adding images...\")\n",
    "\n",
    "image_list = []\n",
    "\n",
    "# Add receipt images\n",
    "for image_num in range(1, 21):  # Assuming there are 20 receipt images\n",
    "    file_name = f\"receipt_{image_num}.jpg\"  # Adjusted for the new naming convention\n",
    "    with open(os.path.join(base_image_location, \"receipt\", file_name), \"rb\") as image_contents:\n",
    "        image_list.append(ImageFileCreateEntry(name=file_name, contents=image_contents.read(), tag_ids=[receipt_tag.id]))\n",
    "\n",
    "# Add non_receipt images\n",
    "for image_num in range(1, 21):  # Assuming there are 20 non_receipt images\n",
    "    # The extension needs to be determined dynamically as they can vary\n",
    "    for ext in ['.jpg', '.jpeg', '.png']:\n",
    "        file_name = f\"non_receipt_{image_num}{ext}\"\n",
    "        file_path = os.path.join(base_image_location, \"non_receipt\", file_name)\n",
    "        if os.path.exists(file_path):\n",
    "            with open(file_path, \"rb\") as image_contents:\n",
    "                image_list.append(ImageFileCreateEntry(name=file_name, contents=image_contents.read(), tag_ids=[non_receipt_tag.id]))\n",
    "            break  # Move to the next image number once the current one is found and processed\n",
    "\n",
    "# Upload the images\n",
    "upload_result = trainer.create_images_from_files(project.id, ImageFileCreateBatch(images=image_list))\n",
    "if not upload_result.is_batch_successful:\n",
    "    print(\"Image batch upload failed.\")\n",
    "    for image in upload_result.images:\n",
    "        print(\"Image status: \", image.status)\n",
    "    exit(-1)"
   ]
  },
  {
   "cell_type": "markdown",
   "metadata": {},
   "source": [
    "# Train"
   ]
  },
  {
   "cell_type": "code",
   "execution_count": 11,
   "metadata": {},
   "outputs": [
    {
     "name": "stdout",
     "output_type": "stream",
     "text": [
      "Training...\n",
      "Training status: Training\n",
      "Waiting 10 seconds...\n",
      "Training status: Training\n",
      "Waiting 10 seconds...\n",
      "Training status: Training\n",
      "Waiting 10 seconds...\n",
      "Training status: Training\n",
      "Waiting 10 seconds...\n",
      "Training status: Training\n",
      "Waiting 10 seconds...\n",
      "Training status: Training\n",
      "Waiting 10 seconds...\n",
      "Training status: Training\n",
      "Waiting 10 seconds...\n",
      "Training status: Training\n",
      "Waiting 10 seconds...\n",
      "Training status: Training\n",
      "Waiting 10 seconds...\n",
      "Training status: Training\n",
      "Waiting 10 seconds...\n",
      "Training status: Training\n",
      "Waiting 10 seconds...\n",
      "Training status: Training\n",
      "Waiting 10 seconds...\n",
      "Training status: Training\n",
      "Waiting 10 seconds...\n",
      "Training status: Training\n",
      "Waiting 10 seconds...\n",
      "Training status: Training\n",
      "Waiting 10 seconds...\n",
      "Training status: Training\n",
      "Waiting 10 seconds...\n",
      "Training status: Training\n",
      "Waiting 10 seconds...\n",
      "Training status: Training\n",
      "Waiting 10 seconds...\n",
      "Training status: Training\n",
      "Waiting 10 seconds...\n",
      "Training status: Training\n",
      "Waiting 10 seconds...\n",
      "Training status: Training\n",
      "Waiting 10 seconds...\n",
      "Training status: Training\n",
      "Waiting 10 seconds...\n",
      "Training status: Completed\n",
      "Waiting 10 seconds...\n"
     ]
    }
   ],
   "source": [
    "print (\"Training...\")\n",
    "iteration = trainer.train_project(project.id)\n",
    "while (iteration.status != \"Completed\"):\n",
    "    iteration = trainer.get_iteration(project.id, iteration.id)\n",
    "    print (\"Training status: \" + iteration.status)\n",
    "    print (\"Waiting 10 seconds...\")\n",
    "    time.sleep(10)"
   ]
  },
  {
   "cell_type": "code",
   "execution_count": 12,
   "metadata": {},
   "outputs": [
    {
     "name": "stdout",
     "output_type": "stream",
     "text": [
      "Done!\n"
     ]
    }
   ],
   "source": [
    "# The iteration is now trained. Publish it to the project endpoint\n",
    "trainer.publish_iteration(project.id, iteration.id, publish_iteration_name, prediction_resource_id)\n",
    "print (\"Done!\")"
   ]
  },
  {
   "cell_type": "code",
   "execution_count": 26,
   "metadata": {},
   "outputs": [
    {
     "name": "stdout",
     "output_type": "stream",
     "text": [
      "Iteration unpublished successfully.\n"
     ]
    }
   ],
   "source": [
    "# # Assuming 'trainer' is your CustomVisionTrainingClient instance\n",
    "# # and you have 'project.id' and 'iteration.id' from your project and iteration\n",
    "\n",
    "# # Unpublish the iteration\n",
    "# trainer.unpublish_iteration(project.id, iteration.id)\n",
    "# print(\"Iteration unpublished successfully.\")"
   ]
  },
  {
   "cell_type": "markdown",
   "metadata": {},
   "source": [
    "# Predict"
   ]
  },
  {
   "cell_type": "code",
   "execution_count": 13,
   "metadata": {},
   "outputs": [],
   "source": [
    "# Now there is a trained endpoint that can be used to make a prediction\n",
    "prediction_credentials = ApiKeyCredentials(in_headers={\"Prediction-key\": prediction_key})\n",
    "predictor = CustomVisionPredictionClient(prediction_endpoint, prediction_credentials)"
   ]
  },
  {
   "cell_type": "code",
   "execution_count": 20,
   "metadata": {},
   "outputs": [
    {
     "name": "stdout",
     "output_type": "stream",
     "text": [
      "\tReceipt: 99.98%\n",
      "\tNon Receipt: 0.02%\n"
     ]
    }
   ],
   "source": [
    "with open(\"receipt-data/aeon.jpg\", \"rb\") as image_contents:\n",
    "    results = predictor.classify_image(\n",
    "        project.id, publish_iteration_name, image_contents.read())\n",
    "    # print(results.predictions)\n",
    "    # Display the results.\n",
    "    for prediction in results.predictions:\n",
    "        # print(prediction)\n",
    "        print(\"\\t\" + prediction.tag_name +\n",
    "              \": {0:.2f}%\".format(prediction.probability * 100))"
   ]
  },
  {
   "cell_type": "code",
   "execution_count": null,
   "metadata": {},
   "outputs": [],
   "source": []
  }
 ],
 "metadata": {
  "kernelspec": {
   "display_name": ".venv",
   "language": "python",
   "name": "python3"
  },
  "language_info": {
   "codemirror_mode": {
    "name": "ipython",
    "version": 3
   },
   "file_extension": ".py",
   "mimetype": "text/x-python",
   "name": "python",
   "nbconvert_exporter": "python",
   "pygments_lexer": "ipython3",
   "version": "3.10.12"
  }
 },
 "nbformat": 4,
 "nbformat_minor": 2
}
